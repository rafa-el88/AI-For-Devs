{
 "cells": [
  {
   "cell_type": "code",
   "execution_count": 1,
   "id": "284b86b3",
   "metadata": {},
   "outputs": [
    {
     "name": "stdout",
     "output_type": "stream",
     "text": [
      "celula 1\n"
     ]
    }
   ],
   "source": [
    "print(\"celula 1\")"
   ]
  },
  {
   "cell_type": "code",
   "execution_count": 2,
   "id": "6114858e",
   "metadata": {},
   "outputs": [
    {
     "name": "stdout",
     "output_type": "stream",
     "text": [
      "celula 2\n"
     ]
    }
   ],
   "source": [
    "print(\"celula 2\")"
   ]
  }
 ],
 "metadata": {
  "kernelspec": {
   "display_name": "base",
   "language": "python",
   "name": "python3"
  },
  "language_info": {
   "codemirror_mode": {
    "name": "ipython",
    "version": 3
   },
   "file_extension": ".py",
   "mimetype": "text/x-python",
   "name": "python",
   "nbconvert_exporter": "python",
   "pygments_lexer": "ipython3",
   "version": "3.12.7"
  }
 },
 "nbformat": 4,
 "nbformat_minor": 5
}
